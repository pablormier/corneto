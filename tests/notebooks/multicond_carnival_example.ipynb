{
 "cells": [
  {
   "cell_type": "code",
   "execution_count": null,
   "id": "91118fbd-a134-48a5-98fe-2a3037a0d967",
   "metadata": {},
   "outputs": [],
   "source": [
    "import corneto as cn\n",
    "import numpy as np\n",
    "\n",
    "cn.info()"
   ]
  },
  {
   "cell_type": "code",
   "execution_count": null,
   "id": "55e920b1-a734-423f-ada3-2231834b741d",
   "metadata": {},
   "outputs": [],
   "source": [
    "G_pkn = cn.Graph.from_sif_tuples(\n",
    "    [\n",
    "        (\"rec1\", 1, \"a\"),\n",
    "        (\"rec1\", -1, \"b\"),\n",
    "        (\"rec1\", 1, \"f\"),\n",
    "        (\"rec1\", -1, \"c\"),\n",
    "        (\"rec2\", 1, \"b\"),\n",
    "        (\"rec2\", 1, \"tf2\"),\n",
    "        (\"b\", 1, \"g\"),\n",
    "        (\"g\", -1, \"d\"),\n",
    "        (\"rec2\", -1, \"d\"),\n",
    "        (\"a\", 1, \"c\"),\n",
    "        (\"a\", -1, \"d\"),\n",
    "        (\"c\", 1, \"d\"),\n",
    "        (\"c\", -1, \"e\"),\n",
    "        (\"c\", 1, \"tf3\"),\n",
    "        (\"e\", 1, \"a\"),\n",
    "        (\"d\", -1, \"c\"),\n",
    "        (\"e\", 1, \"tf1\"),\n",
    "        (\"a\", -1, \"tf1\"),\n",
    "        (\"d\", 1, \"tf2\"),\n",
    "        (\"c\", -1, \"tf2\"),\n",
    "        (\"tf1\", 1, \"tf2\"),\n",
    "        (\"tf1\", -1, \"rec2\"),\n",
    "        (\"tf2\", 1, \"rec1\"),\n",
    "        (\"tf1\", 1, \"f\")\n",
    "    ]\n",
    ")\n",
    "G_pkn.plot()"
   ]
  },
  {
   "cell_type": "code",
   "execution_count": null,
   "id": "ec34706d-4949-4ab4-95c7-4cad37e57bf4",
   "metadata": {},
   "outputs": [],
   "source": [
    "def prune_graph(G, conditions, inputs_dict_key=\"input\", outputs_dict_key=\"output\"):\n",
    "    graph_vertices = set(G.V)\n",
    "    pruned_conditions = {}\n",
    "    all_input_vertices = set()\n",
    "    all_output_vertices = set()\n",
    "\n",
    "    for cond_name, cond_data in conditions.items():\n",
    "        # Convert dict keys to sets for easier set operations\n",
    "        condition_inputs = set(cond_data[inputs_dict_key])\n",
    "        condition_outputs = set(cond_data[outputs_dict_key])\n",
    "\n",
    "        # Intersect with the current graph's vertices\n",
    "        relevant_inputs = graph_vertices & condition_inputs\n",
    "        relevant_outputs = graph_vertices & condition_outputs\n",
    "\n",
    "        # Prune the graph based on relevant inputs and outputs\n",
    "        sub_graph = G.prune(list(relevant_inputs), list(relevant_outputs))\n",
    "        sub_vertices = set(sub_graph.V)\n",
    "\n",
    "        # Gather only input/output items that still exist in the pruned subgraph\n",
    "        pruned_inputs = {\n",
    "            i: cond_data[inputs_dict_key].get(i, 0)\n",
    "            for i in sub_vertices & condition_inputs\n",
    "        }\n",
    "        pruned_outputs = {\n",
    "            o: cond_data[outputs_dict_key].get(o, 0)\n",
    "            for o in sub_vertices & condition_outputs\n",
    "        }\n",
    "\n",
    "        # Store the pruned condition\n",
    "        pruned_conditions[cond_name] = {\n",
    "            inputs_dict_key: pruned_inputs,\n",
    "            outputs_dict_key: pruned_outputs,\n",
    "        }\n",
    "\n",
    "        # Collect all inputs/outputs to prune the original graph finally\n",
    "        all_input_vertices.update(pruned_inputs)\n",
    "        all_output_vertices.update(pruned_outputs)\n",
    "\n",
    "    # Prune the original graph using all collected inputs/outputs\n",
    "    pruned_graph = G.prune(list(all_input_vertices), list(all_output_vertices))\n",
    "\n",
    "    return pruned_conditions, pruned_graph\n"
   ]
  },
  {
   "cell_type": "code",
   "execution_count": null,
   "id": "b9779f21-8a45-4150-bf25-612f1eea9ab4",
   "metadata": {},
   "outputs": [],
   "source": [
    "from corneto.methods.carnival import preprocess_graph\n",
    "from corneto.methods.signaling import create_flow_graph\n",
    "#from corneto.methods.signalling.carnival import create_carnival_problem\n",
    "from corneto.methods.future.carnival import Carnival\n",
    "from corneto.methods import expand_graph_for_flows\n",
    "from corneto.backend import PicosBackend, CvxpyBackend\n",
    "\n",
    "conditions = {\n",
    "    \"c1\": {\n",
    "        \"input\": {\n",
    "            \"rec2\": 1\n",
    "        },\n",
    "        \"output\": {\n",
    "            \"tf1\": -1,\n",
    "            \"tf2\": 1\n",
    "        }\n",
    "    },\n",
    "    \"c2\": {\n",
    "        \"input\": {\n",
    "            \"rec1\": 1,\n",
    "            \"rec2\": -1\n",
    "        },\n",
    "        \"output\": {\n",
    "            \"tf1\": 1,\n",
    "            \"tf2\": -1,\n",
    "            \"tf3\": 3,\n",
    "        }\n",
    "    }\n",
    "}\n",
    "\n",
    "def pivoted_to_standard(pivoted_dict, metadata_key):\n",
    "    \"\"\"\n",
    "    Converts a 'pivoted' dict of the form:\n",
    "        {\n",
    "          condition: {\n",
    "            meta_value: {\n",
    "               feature_name: feature_value\n",
    "            },\n",
    "            ...\n",
    "          },\n",
    "          ...\n",
    "        }\n",
    "    into a 'standard' dict of the form:\n",
    "        {\n",
    "          condition: {\n",
    "            feature_name: {\n",
    "              \"value\": feature_value,\n",
    "              <metadata_key>: meta_value\n",
    "            },\n",
    "            ...\n",
    "          },\n",
    "          ...\n",
    "        }\n",
    "\n",
    "    Args:\n",
    "        pivoted_dict (dict): The pivoted dictionary.\n",
    "        metadata_key (str): The name of the metadata field to inject (e.g. \"type\").\n",
    "\n",
    "    Returns:\n",
    "        dict: The converted dictionary in standard format.\n",
    "    \"\"\"\n",
    "    standard_dict = {}\n",
    "\n",
    "    for condition, meta_groups in pivoted_dict.items():\n",
    "        standard_dict[condition] = {}\n",
    "        for meta_val, features in meta_groups.items():\n",
    "            for feature_name, feature_value in features.items():\n",
    "                standard_dict[condition][feature_name] = {\n",
    "                    \"value\": feature_value,\n",
    "                    metadata_key: meta_val\n",
    "                }\n",
    "    return standard_dict\n",
    "\n",
    "pivoted_to_standard(conditions, \"type\")"
   ]
  },
  {
   "cell_type": "code",
   "execution_count": null,
   "id": "fc2ef4a5-4f46-404c-98f9-a81828bbd030",
   "metadata": {},
   "outputs": [],
   "source": [
    "cond, Gp = prune_graph(G_pkn, conditions)\n",
    "cond"
   ]
  },
  {
   "cell_type": "code",
   "execution_count": null,
   "id": "3d2d0091-31ec-4f48-af94-b6d20a70c454",
   "metadata": {},
   "outputs": [],
   "source": [
    "Gp.shape, G_pkn.shape"
   ]
  },
  {
   "cell_type": "code",
   "execution_count": null,
   "id": "8560c24a-98f1-45e7-8792-033b36bbe0ad",
   "metadata": {},
   "outputs": [],
   "source": [
    "G_flow = expand_graph_for_flows(Gp, cond)\n",
    "G_flow.plot()"
   ]
  },
  {
   "cell_type": "code",
   "execution_count": null,
   "id": "60aad4d1-0221-467b-b578-789e2038505a",
   "metadata": {},
   "outputs": [],
   "source": [
    "from corneto.methods.future.method import Dataset"
   ]
  },
  {
   "cell_type": "code",
   "execution_count": null,
   "id": "f0c8e14a-688e-45d6-8700-e7aa5703da15",
   "metadata": {},
   "outputs": [],
   "source": [
    "#for o in P.objectives:\n",
    "#    if hasattr(o, 'value'):\n",
    "#        print(o.value)\n",
    "#    else:\n",
    "#        print(o)"
   ]
  },
  {
   "cell_type": "code",
   "execution_count": null,
   "id": "a2eced0f-6237-4098-bb9f-019791b8d4c1",
   "metadata": {},
   "outputs": [],
   "source": [
    "Dataset.from_dict(pivoted_to_standard(conditions, \"type\")).to_dict()"
   ]
  },
  {
   "cell_type": "code",
   "execution_count": null,
   "id": "7fee191a-825b-4d6b-88a9-8480f3de99fe",
   "metadata": {},
   "outputs": [],
   "source": [
    "c = Carnival(backend=CvxpyBackend(), lambd=0)\n",
    "P = c.build(G_pkn, Dataset.from_dict(pivoted_to_standard(conditions, \"type\")))\n",
    "P.solve(solver=\"GUROBI\", verbosity=1)"
   ]
  },
  {
   "cell_type": "code",
   "execution_count": null,
   "id": "9cc44b3b-82ab-44d5-89a3-943e232e94cd",
   "metadata": {},
   "outputs": [],
   "source": [
    "G_flow.edge_subgraph(np.flatnonzero(P.expr.edge_has_signal.value[:, 0])).plot()"
   ]
  },
  {
   "cell_type": "code",
   "execution_count": null,
   "id": "9f69411b-89af-4187-b932-005517f63754",
   "metadata": {},
   "outputs": [],
   "source": [
    "G_flow.edge_subgraph(np.flatnonzero(P.expr.edge_has_signal.value[:, 1])).plot()"
   ]
  },
  {
   "cell_type": "code",
   "execution_count": null,
   "id": "90514a40-26e7-427f-af72-e25d080be21d",
   "metadata": {},
   "outputs": [],
   "source": [
    "for o in P.objectives:\n",
    "    print(o.value)"
   ]
  },
  {
   "cell_type": "code",
   "execution_count": null,
   "id": "f2858ac2-18ce-40eb-9755-d2f11f01ec67",
   "metadata": {},
   "outputs": [],
   "source": [
    "P.expr"
   ]
  },
  {
   "cell_type": "code",
   "execution_count": null,
   "id": "915f10ae-641e-4361-afc8-7ad28ba422c9",
   "metadata": {},
   "outputs": [],
   "source": [
    "from corneto.methods.future.method import Dataset\n",
    "\n",
    "d = Dataset.from_dict({\n",
    "    \"c1\": {\n",
    "        \"rec2\": {\n",
    "            \"value\": 1,\n",
    "            \"type\": \"input\"\n",
    "        },\n",
    "        \"tf1\": {\n",
    "            \"value\": -1,\n",
    "            \"type\": \"output\"\n",
    "        },\n",
    "        \"tf2\": {\n",
    "            \"value\": 1,\n",
    "            \"type\": \"output\"\n",
    "        }\n",
    "    },\n",
    "    \"c2\": {\n",
    "        \"rec1\": {\n",
    "            \"value\": 1, \n",
    "            \"type\": \"input\"\n",
    "        },\n",
    "        \"rec2\": {\n",
    "            \"value\": -1,\n",
    "            \"type\": \"input\"\n",
    "        },\n",
    "        \"tf1\": {\n",
    "            \"value\": 1,\n",
    "            \"type\": \"output\"\n",
    "        },\n",
    "        \"tf2\": {\n",
    "            \"value\": -1,\n",
    "            \"type\": \"output\"\n",
    "        },\n",
    "        \"tf3\": {\n",
    "            \"value\": 3,\n",
    "            \"type\": \"output\"\n",
    "        }\n",
    "    }\n",
    "})\n"
   ]
  },
  {
   "cell_type": "code",
   "execution_count": null,
   "id": "199082b9-3de2-4f15-a5f1-ac7bf5fc4a91",
   "metadata": {},
   "outputs": [],
   "source": [
    "d.to_dict(key=\"type\", return_value_only=True)"
   ]
  },
  {
   "cell_type": "code",
   "execution_count": null,
   "id": "69ec2868-8f07-450a-8778-5ce0e0b2ee65",
   "metadata": {},
   "outputs": [],
   "source": [
    "# 1. Create some \"standard\" structure data:\n",
    "standard_data = {\n",
    "    \"sample1\": {\n",
    "        \"m1\": {\"value\": 1, \"type\": \"input\", \"other\": \"ask\"},\n",
    "        \"m2\": {\"value\": 2, \"type\": \"output\"}\n",
    "    },\n",
    "    \"sample2\": {\n",
    "        \"m3\": {\"value\": 99, \"type\": \"input\"}\n",
    "    }\n",
    "}\n",
    "ds_standard = Dataset.from_dict(standard_data)\n",
    "Dataset.from_dict(ds_standard.to_dict(key=\"type\", return_value_only=True), key=\"type\").to_dict()"
   ]
  },
  {
   "cell_type": "code",
   "execution_count": null,
   "id": "d38a6871-bc83-4f62-a9a2-3593330b1ab6",
   "metadata": {},
   "outputs": [],
   "source": []
  }
 ],
 "metadata": {
  "kernelspec": {
   "display_name": "Python 3 (ipykernel)",
   "language": "python",
   "name": "python3"
  },
  "language_info": {
   "codemirror_mode": {
    "name": "ipython",
    "version": 3
   },
   "file_extension": ".py",
   "mimetype": "text/x-python",
   "name": "python",
   "nbconvert_exporter": "python",
   "pygments_lexer": "ipython3",
   "version": "3.12.7"
  }
 },
 "nbformat": 4,
 "nbformat_minor": 5
}
