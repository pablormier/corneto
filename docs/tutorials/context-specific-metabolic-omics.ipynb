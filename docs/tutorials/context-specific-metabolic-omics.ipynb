{
 "cells": [
  {
   "cell_type": "markdown",
   "id": "ccd651c3-b1b9-4e23-b84c-41a9ca04e7ea",
   "metadata": {},
   "source": [
    "# Context-specific metabolic networks from omics\n",
    "\n",
    "Here we will illustrate the use of the iMAT method, as implemented in CORNETO, to extract context specific metabolic networks from transcriptomics. CORNETO implements an extension of iMAT to support multiple samples, and also gives more control for customization.\n",
    "\n",
    "We will use the core [E. coli PKN](https://systemsbiology.ucsd.edu/Downloads/E_coli_Core), and microarray-based gene [expression data]( http://systemsbiology.ucsd.edu/InSilicoOrganisms/Ecoli/EcoliExpression2) corresponding to a anaerobic growth on glucose of a wild-type E. coli strain. This tutorial is based on the original [COBRA tutorial](https://opencobra.github.io/cobratoolbox/stable/tutorials/tutorial_extractionTranscriptomic.html)."
   ]
  },
  {
   "cell_type": "code",
   "execution_count": null,
   "id": "9bd61af9-1341-41f0-9a01-70a2a16a4b1d",
   "metadata": {},
   "outputs": [],
   "source": [
    "import corneto as cn\n",
    "import pandas as pd\n",
    "import numpy as np\n",
    "\n",
    "cn.info()"
   ]
  },
  {
   "cell_type": "markdown",
   "id": "7db04ab1-f45d-4f91-a67b-3af29548b2e9",
   "metadata": {},
   "source": [
    "## Loading data from COBRA\n",
    "\n",
    "We will use the ecoli core metabolic network and ecoli data example obtained from the COBRA package"
   ]
  },
  {
   "cell_type": "code",
   "execution_count": null,
   "id": "31c46e8b-7f2c-4500-8f33-61f67e661319",
   "metadata": {},
   "outputs": [],
   "source": [
    "from corneto.io import import_cobra_model\n",
    "\n",
    "G = import_cobra_model(\"../../tests/gem/ecoli_core.zip\")\n",
    "df_expr = pd.read_csv(\"../../tests/gem/ecoli_example_data.zip\")\n",
    "df_expr"
   ]
  },
  {
   "cell_type": "code",
   "execution_count": null,
   "id": "49fd6de4-27e8-404a-b451-1a87fc3dc55a",
   "metadata": {},
   "outputs": [],
   "source": [
    "G.shape"
   ]
  },
  {
   "cell_type": "code",
   "execution_count": null,
   "id": "889724de-b34b-4614-bd4c-c11f895ba0ce",
   "metadata": {},
   "outputs": [],
   "source": [
    "# We can inspect the content of the network\n",
    "G.get_attr_edges()[:5]"
   ]
  },
  {
   "cell_type": "markdown",
   "id": "e12fa9f9-5201-4532-9de8-a69eee3201d6",
   "metadata": {},
   "source": [
    "## Mapping data using Gene-Protein-Reaction (GPR) rules\n",
    "\n",
    "We need to compute reaction scores from gene expression data. For this, we will classify genes as highly expressed and lowly expressed based on thresholds applied to the marginal distribution of gene intensities. Then, we will map these values by applying the Gene-Protein-Reaction (GPR) rules included in the Ecoli PKN."
   ]
  },
  {
   "cell_type": "code",
   "execution_count": null,
   "id": "61b22e9b-a906-4348-9e3c-f4d3758d6512",
   "metadata": {},
   "outputs": [],
   "source": [
    "from corneto.methods.metabolism import evaluate_gpr_expression, get_unique_genes\n",
    "\n",
    "genes = get_unique_genes(G, startswith=\"b\")\n",
    "len(genes)"
   ]
  },
  {
   "cell_type": "code",
   "execution_count": null,
   "id": "646f6500-5fa2-4a9a-b2e8-952ba4fb1bcf",
   "metadata": {},
   "outputs": [],
   "source": [
    "df_expr.set_index(\"gene\").stack().to_frame(name='expression').hist(bins=30);"
   ]
  },
  {
   "cell_type": "code",
   "execution_count": null,
   "id": "19d7753e-ffa7-42cc-8f07-3747dbb9edba",
   "metadata": {},
   "outputs": [],
   "source": [
    "df_expr[\"high\"] = (df_expr[\"value\"] >= 8).astype(int)\n",
    "df_expr[\"low\"] = (df_expr[\"value\"] <= 4).astype(int)\n",
    "df_expr[\"score\"] = df_expr[\"high\"] - df_expr[\"low\"]\n",
    "df_expr"
   ]
  },
  {
   "cell_type": "code",
   "execution_count": null,
   "id": "c698ca8b-1bb3-4fd2-8f33-f860f876e4d1",
   "metadata": {},
   "outputs": [],
   "source": [
    "values = df_expr[[\"gene\", \"score\"]].set_index(\"gene\").to_dict()[\"score\"]\n",
    "e = evaluate_gpr_expression(G.get_attr_from_edges(\"GPR\"), values)"
   ]
  },
  {
   "cell_type": "code",
   "execution_count": null,
   "id": "bd56cf86-96d5-41fd-b118-cf94e3d749ae",
   "metadata": {},
   "outputs": [],
   "source": [
    "pd.DataFrame({\"id\": G.get_attr_from_edges(\"id\"), \"score\": e})"
   ]
  },
  {
   "cell_type": "markdown",
   "id": "a0990360-6b96-45ed-a4f7-03da9416b1ab",
   "metadata": {},
   "source": [
    "## Context-specific network inference\n",
    "\n",
    "We will use the reaction scores to create a `Data` object. The `id` corresponds to the reaction id of the PKN, and the value to the reaction score. We indicate that these features map to edges (reactions) with `mapping` = `edge`. Note that if `mapping` = `none`, then it will be assumed that the dataset contains genes, and automatic GPR will be performed to translate from genes to reaction scores."
   ]
  },
  {
   "cell_type": "code",
   "execution_count": null,
   "id": "f808dd05-2dce-40cc-9680-f0a7009e5a2c",
   "metadata": {},
   "outputs": [],
   "source": [
    "# Create a dataset (here we only have 1 sample, which is the mean of the four measurements)\n",
    "from corneto._data import Data\n",
    "\n",
    "feats = dict()\n",
    "for edge, val in zip(G.get_attr_from_edges(\"id\"), e):\n",
    "    feats[edge] = {\"value\": val, \"mapping\": \"edge\"}\n",
    "data = {\n",
    "    \"sample1\": feats\n",
    "}\n",
    "data = Data.from_cdict(data)\n",
    "data"
   ]
  },
  {
   "cell_type": "markdown",
   "id": "15e90a14-0b94-416e-9cb1-421ec1da2eb1",
   "metadata": {},
   "source": [
    "We run the iMAT method (in this case, only 1 sample, which is the mean of the 4 biological replicates)"
   ]
  },
  {
   "cell_type": "code",
   "execution_count": null,
   "id": "b4589e2f-7772-4a3e-9d2a-e96b9ca11d84",
   "metadata": {},
   "outputs": [],
   "source": [
    "from corneto.methods.future.imat import MultiSampleIMAT\n",
    "\n",
    "# eps is the min absolute flux value that we will consider\n",
    "# for reactions with positive scores, i.e., if a reaction\n",
    "# with a positive score is included in the context specific\n",
    "# metabolic network, it has to be able to carry an absolute\n",
    "# metabolic flux value above eps.\n",
    "eps = 1e-2\n",
    "\n",
    "# We will also add a small penalty to make networks sparser.\n",
    "# When we have more than 1 sample, this parameter controls \n",
    "# the regularization across samples, blocking entire groups\n",
    "# of reactions across samples. Here, we are just penalizing\n",
    "# the inclusion of reactions not needed to fit the reaction\n",
    "# scores\n",
    "m = MultiSampleIMAT(lambda_reg=1e-3, eps=eps)\n",
    "P = m.build(G, data)\n",
    "P.expr"
   ]
  },
  {
   "cell_type": "code",
   "execution_count": null,
   "id": "9f57b5bb-c7f4-420c-9cda-bd151d246e99",
   "metadata": {},
   "outputs": [],
   "source": [
    "P.solve(solver=\"scipy\", verbosity=0);"
   ]
  },
  {
   "cell_type": "markdown",
   "id": "4369ff50-234f-443f-a278-3a5f87a1ca80",
   "metadata": {},
   "source": [
    "The final result indicates that 1 reaction with positive score was not selected, and 1 reaction with negative score was included. In total, the network contains 61 reactions with fluxes. The last value corresponds to the number of reactions that were not blocked."
   ]
  },
  {
   "cell_type": "code",
   "execution_count": null,
   "id": "7b815fb6-c588-4582-84bb-896ec0c06194",
   "metadata": {},
   "outputs": [],
   "source": [
    "for o in P.objectives:\n",
    "    print(o.value)"
   ]
  },
  {
   "cell_type": "code",
   "execution_count": null,
   "id": "30db1188-65b4-49d5-a0ba-fed8d27c912e",
   "metadata": {},
   "outputs": [],
   "source": [
    "# Metabolic fluxes correspond to values of the flow variable\n",
    "# Note that there are 91 values, corresponding to the 91 reactions\n",
    "# in the PKN\n",
    "\n",
    "df_sol = pd.DataFrame(\n",
    "    P.expr.flow.value, index=G.get_attr_from_edges(\"id\"), columns=[\"flux\"]\n",
    ")\n",
    "df_sol"
   ]
  },
  {
   "cell_type": "code",
   "execution_count": null,
   "id": "15d6f5c6-715a-4ef7-b4f1-6d36db7877d8",
   "metadata": {},
   "outputs": [],
   "source": [
    "df_sol.hist(bins=30)"
   ]
  },
  {
   "cell_type": "code",
   "execution_count": null,
   "id": "a8427c8c-9f01-4566-b6a8-986ae191f118",
   "metadata": {},
   "outputs": [],
   "source": [
    "selected_reactions = df_sol[df_sol.flux.abs() >= eps*(1-eps)].index.values.tolist()\n",
    "len(selected_reactions)"
   ]
  },
  {
   "cell_type": "code",
   "execution_count": null,
   "id": "2076d581-fe63-4ae1-85b7-c0fac8e03c48",
   "metadata": {},
   "outputs": [],
   "source": [
    "np.sum(P.expr.edge_has_flux.value)"
   ]
  },
  {
   "cell_type": "code",
   "execution_count": null,
   "id": "009c1b75-598e-494b-b72e-ca4ad1be58c1",
   "metadata": {},
   "outputs": [],
   "source": [
    "# Extract the context specific network\n",
    "G_ctx = G.edge_subgraph(np.flatnonzero(P.expr.edge_has_flux.value))\n",
    "G_ctx.shape"
   ]
  },
  {
   "cell_type": "code",
   "execution_count": null,
   "id": "d473b6b5-680d-4734-9a9c-e565ff20e36a",
   "metadata": {},
   "outputs": [],
   "source": [
    "G_ctx.plot(layout=\"neato\")"
   ]
  },
  {
   "cell_type": "markdown",
   "id": "63d76a3e-fcfb-402c-a850-d1b4ab801e71",
   "metadata": {},
   "source": [
    "## Old version\n",
    "\n",
    "Original experiments in the manuscript used the old `multicondition_imat`:"
   ]
  },
  {
   "cell_type": "code",
   "execution_count": null,
   "id": "de52b303-52fc-4e6c-b1c2-7f3ec6ded637",
   "metadata": {},
   "outputs": [],
   "source": [
    "from corneto.methods.metabolism.fba import multicondition_imat\n",
    "\n",
    "P = multicondition_imat(G, np.array(e), alpha=1e-3, eps=eps)\n",
    "P.solve(solver=\"scipy\");"
   ]
  },
  {
   "cell_type": "code",
   "execution_count": null,
   "id": "997b942d-cf11-4fe2-bcbc-2c179be3f9e4",
   "metadata": {},
   "outputs": [],
   "source": [
    "for o in P.objectives:\n",
    "    print(o.value)"
   ]
  }
 ],
 "metadata": {
  "kernelspec": {
   "display_name": "Python 3 (ipykernel)",
   "language": "python",
   "name": "python3"
  },
  "language_info": {
   "codemirror_mode": {
    "name": "ipython",
    "version": 3
   },
   "file_extension": ".py",
   "mimetype": "text/x-python",
   "name": "python",
   "nbconvert_exporter": "python",
   "pygments_lexer": "ipython3",
   "version": "3.12.9"
  }
 },
 "nbformat": 4,
 "nbformat_minor": 5
}
